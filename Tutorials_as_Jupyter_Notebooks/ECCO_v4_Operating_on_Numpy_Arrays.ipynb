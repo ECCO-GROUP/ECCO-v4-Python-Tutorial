{
 "cells": [
  {
   "cell_type": "markdown",
   "metadata": {},
   "source": [
    "# Operating on Numpy arrays\n",
    "\n",
    "## Objectives\n",
    "\n",
    "Introduce numpy's **pass-by-reference** approach handling numpy arrays and methods for avoiding pitfalls when operating on numpy arrays.\n",
    "\n",
    "## Introduction\n",
    "\n",
    "From: http://span.ece.utah.edu/common-mistakes-in-moving-from-matlab-to-python:\n",
    "\n",
    "\"Whenever you reference an array in Python, the computer will provide the memory address for the thing you are accessing, not the actual value. This is called **pass-by-reference**. This saves memory and makes your programs faster, but it is also harder to keep straight.\"  \n",
    "\n",
    "From: https://docs.python.org/2/library/copy.html\n",
    "\n",
    "\"Assignment statements in Python do not copy objects, they create bindings [pointers] between a target and an object.\" \"... a copy is sometimes needed so one can change one copy without changing the other. The 'copy' module provides generic ... copy operations.\"\n",
    "\n",
    "If you are not familiar with the **pass-by-reference** aspect of Python then I strongly suggest you read this short, informative essay on \"Python Names and Values\": https://nedbatchelder.com/text/names.html\n",
    "\n",
    "We've briefly touched on this important subject in earlier tutorials.  Now we'll go into a bit more detail.\n",
    "\n",
    "> Note: For this tutorial you will need the 2010 monthly SSH fields (ShortName **ECCO_L4_SSH_LLC0090GRID_MONTHLY_V4R4**) and the [grid file](https://ecco-v4-python-tutorial.readthedocs.io/ECCO_v4_Loading_the_ECCOv4_native_model_grid_parameters.html). The `ecco_access` library used in the notebook will handle download or retrieval of the necessary data, if you have set up the library [in your Python path](https://ecco-v4-python-tutorial.readthedocs.io/ECCO_access_intro.html#Setting-up-ecco_access)."
   ]
  },
  {
   "cell_type": "markdown",
   "metadata": {},
   "source": [
    "## Variable assignments\n",
    "\n",
    "Unlike some other languages, creating a new variable with an assignment statement in Python such as\n",
    "`\n",
    "x = some_numpy_array\n",
    "`\n",
    "\n",
    "does not make a copy of ``some_numpy_array``.  Instead, the assignment statement makes ``x`` and ``some_numpy_array`` both point to the same `numpy` array in memory.  Because ``x`` and ``some_numpy_array`` are both refer (or pointer) to the same `numpy` array in memory, the `numpy` array can be changed by operations on either ``x`` or ``some_numpy_array``.  If you aren't aware of this behavior then you may run into very difficult to identify bugs in your calculations!\n",
    "\n",
    "### A simple demonstration\n",
    "\n",
    "Let's demonstrate this issue with a very simple `numpy` array"
   ]
  },
  {
   "cell_type": "code",
   "execution_count": 1,
   "metadata": {},
   "outputs": [],
   "source": [
    "import numpy as np\n",
    "import xarray as xr\n",
    "import sys\n",
    "import matplotlib.pyplot as plt\n",
    "%matplotlib inline\n",
    "import json\n",
    "import glob\n",
    "from copy import deepcopy \n",
    "import warnings\n",
    "warnings.filterwarnings('ignore')\n",
    "\n",
    "import ecco_v4_py as ecco\n",
    "import ecco_v4_py.ecco_access as ea\n",
    "\n",
    "\n",
    "# are you working in the AWS Cloud?\n",
    "incloud_access = False\n",
    "\n",
    "# indicate mode of access from PO.DAAC\n",
    "# options are:\n",
    "# 'download': direct download from internet to your local machine\n",
    "# 'download_ifspace': like download, but only proceeds \n",
    "#                     if your machine have sufficient storage\n",
    "# 's3_open': access datasets in-cloud from an AWS instance\n",
    "# 's3_open_fsspec': use jsons generated with fsspec and \n",
    "#                   kerchunk libraries to speed up in-cloud access\n",
    "# 's3_get': direct download from S3 in-cloud to an AWS instance\n",
    "# 's3_get_ifspace': like s3_get, but only proceeds if your instance \n",
    "#                   has sufficient storage\n",
    "user_home_dir = expanduser('~')\n",
    "download_dir = join(user_home_dir,'Downloads','ECCO_V4r4_PODAAC')\n",
    "if incloud_access:\n",
    "    access_mode = 's3_open_fsspec'\n",
    "    download_root_dir = None\n",
    "    jsons_root_dir = join(user_home_dir,'MZZ')\n",
    "else:\n",
    "    access_mode = 'download_ifspace'\n",
    "    download_root_dir = download_dir\n",
    "    jsons_root_dir = None"
   ]
  },
  {
   "cell_type": "markdown",
   "metadata": {},
   "source": [
    "Create a simple numpy array"
   ]
  },
  {
   "cell_type": "code",
   "execution_count": 4,
   "metadata": {},
   "outputs": [
    {
     "data": {
      "text/plain": [
       "True"
      ]
     },
     "execution_count": 4,
     "metadata": {},
     "output_type": "execute_result"
    }
   ],
   "source": [
    "a=np.array([1, 2, 3, 4, 5])\n",
    "\n",
    "# Assign 'b' to point to the same numpy array\n",
    "b=a\n",
    "\n",
    "# Test to see if b and a point to the same thing\n",
    "b is a"
   ]
  },
  {
   "cell_type": "markdown",
   "metadata": {},
   "source": [
    "Now change the fourth element of ``b`` and print both ``a`` and ``b``"
   ]
  },
  {
   "cell_type": "code",
   "execution_count": 5,
   "metadata": {},
   "outputs": [
    {
     "name": "stdout",
     "output_type": "stream",
     "text": [
      "[ 1  2  3 10  5]\n",
      "[ 1  2  3 10  5]\n"
     ]
    }
   ],
   "source": [
    "b[3] = 10\n",
    "print (a)\n",
    "print (b)"
   ]
  },
  {
   "cell_type": "markdown",
   "metadata": {},
   "source": [
    "### A fancier demonstration\n",
    "\n",
    "Let's now demonstrate with a `numpy` array that stores ``SSH`` output."
   ]
  },
  {
   "cell_type": "code",
   "execution_count": 6,
   "metadata": {},
   "outputs": [],
   "source": [
    "## load ECCO datasets needed for the tutorial\n",
    "\n",
    "ShortNames_list = [\"ECCO_L4_GEOMETRY_LLC0090GRID_V4R4\",\\\n",
    "                   \"ECCO_L4_SSH_LLC0090GRID_MONTHLY_V4R4\"]\n",
    "\n",
    "ds_dict = ea.ecco_podaac_to_xrdataset(ShortNames_list,\\\n",
    "                                              StartDate='2010-01',EndDate='2010-12',\\\n",
    "                                              mode=access_mode,\\\n",
    "                                              download_root_dir=download_root_dir,\\\n",
    "                                              jsons_root_dir=jsons_root_dir,\\\n",
    "                                              max_avail_frac=0.5)\n",
    "\n",
    "ecco_grid = ds_dict[ShortNames_list[0]].compute()\n",
    "ssh_dataset = ds_dict[ShortNames_list[1]].compute()\n",
    "\n",
    "## Merge SSH and grid\n",
    "output_all = xr.merge((ssh_dataset, ecco_grid))"
   ]
  },
  {
   "cell_type": "markdown",
   "metadata": {},
   "source": [
    "Recall the dimensions of our ``SSH`` `DataArray`:"
   ]
  },
  {
   "cell_type": "code",
   "execution_count": 7,
   "metadata": {},
   "outputs": [
    {
     "data": {
      "text/plain": [
       "('time', 'tile', 'j', 'i')"
      ]
     },
     "execution_count": 7,
     "metadata": {},
     "output_type": "execute_result"
    }
   ],
   "source": [
    "output_all.SSH.dims"
   ]
  },
  {
   "cell_type": "markdown",
   "metadata": {},
   "source": [
    "Show the first four SSH values in **j** and **i** for the fifth month (May 2010) and second tile:"
   ]
  },
  {
   "cell_type": "code",
   "execution_count": 8,
   "metadata": {},
   "outputs": [
    {
     "data": {
      "text/plain": [
       "array([[-1.3647507, -1.3654912, -1.3614875, -1.3682245],\n",
       "       [-1.3252122, -1.3242471, -1.3242686, -1.3410169],\n",
       "       [-1.2957976, -1.2947818, -1.3008444, -1.3268987],\n",
       "       [-1.285025 , -1.2845778, -1.2949846, -1.325418 ]], dtype=float32)"
      ]
     },
     "execution_count": 8,
     "metadata": {},
     "output_type": "execute_result"
    }
   ],
   "source": [
    "output_all.SSH[4,1,0:4,0:4].values"
   ]
  },
  {
   "cell_type": "markdown",
   "metadata": {},
   "source": [
    "Assign the variable `ssh_tmp` to this *subset* of the `numpy` array that ``SSH`` points to:"
   ]
  },
  {
   "cell_type": "code",
   "execution_count": 9,
   "metadata": {},
   "outputs": [
    {
     "data": {
      "text/plain": [
       "array([[-1.3647507, -1.3654912],\n",
       "       [-1.3252122, -1.3242471]], dtype=float32)"
      ]
     },
     "execution_count": 9,
     "metadata": {},
     "output_type": "execute_result"
    }
   ],
   "source": [
    "ssh_tmp = output_all.SSH[4,1,0:2,0:2].values\n",
    "ssh_tmp"
   ]
  },
  {
   "cell_type": "markdown",
   "metadata": {},
   "source": [
    "Now change the values of all elements of ``ssh_tmp`` to 10"
   ]
  },
  {
   "cell_type": "code",
   "execution_count": 10,
   "metadata": {},
   "outputs": [
    {
     "data": {
      "text/plain": [
       "array([[10., 10.],\n",
       "       [10., 10.]], dtype=float32)"
      ]
     },
     "execution_count": 10,
     "metadata": {},
     "output_type": "execute_result"
    }
   ],
   "source": [
    "ssh_tmp[:] = 10\n",
    "ssh_tmp"
   ]
  },
  {
   "cell_type": "markdown",
   "metadata": {},
   "source": [
    "And see that yes, in fact, this change is reflected in our ``SSH`` `DataArray`:"
   ]
  },
  {
   "cell_type": "code",
   "execution_count": 11,
   "metadata": {},
   "outputs": [
    {
     "data": {
      "text/plain": [
       "array([[10.       , 10.       , -1.3614875, -1.3682245],\n",
       "       [10.       , 10.       , -1.3242686, -1.3410169],\n",
       "       [-1.2957976, -1.2947818, -1.3008444, -1.3268987],\n",
       "       [-1.285025 , -1.2845778, -1.2949846, -1.325418 ]], dtype=float32)"
      ]
     },
     "execution_count": 11,
     "metadata": {},
     "output_type": "execute_result"
    }
   ],
   "source": [
    "output_all.SSH[4,1,0:4,0:4].values"
   ]
  },
  {
   "cell_type": "markdown",
   "metadata": {},
   "source": [
    "## Dealing with *pass-by-reference*: right hand side operations\n",
    "\n",
    "One way to have a new variable assignment not point to the original variable is to *perform an operation on the right hand side of the assignment statement*.  \n",
    "\n",
    "\"Python evaluates expressions from left to right. Notice that while evaluating an assignment, the right-hand side is evaluated before the left-hand side.\"\n",
    "https://docs.python.org/2/reference/expressions.html#evaluation-order\n",
    "\n",
    "Performing an operation on the right hand side creates new values in memory.  The new variable assignment will then point to these new values, leaving the original untouched.\n",
    "\n",
    "### Simple demonstration 1\n",
    "Operate on ``a`` by adding 1 before the assigment statement"
   ]
  },
  {
   "cell_type": "code",
   "execution_count": 12,
   "metadata": {},
   "outputs": [
    {
     "name": "stdout",
     "output_type": "stream",
     "text": [
      "[1 2 3 4 5]\n",
      "[2 3 4 5 6]\n"
     ]
    }
   ],
   "source": [
    "# Create a simple numpy array\n",
    "a=np.array([1, 2, 3, 4, 5])\n",
    "\n",
    "b = a + 1\n",
    "\n",
    "print (a)\n",
    "print (b)"
   ]
  },
  {
   "cell_type": "markdown",
   "metadata": {},
   "source": [
    "Now change the fourth element of ``b`` and print both ``a`` and ``b``"
   ]
  },
  {
   "cell_type": "code",
   "execution_count": 13,
   "metadata": {
    "scrolled": true
   },
   "outputs": [
    {
     "name": "stdout",
     "output_type": "stream",
     "text": [
      "[1 2 3 4 5]\n",
      "[ 2  3  4 10  6]\n"
     ]
    }
   ],
   "source": [
    "b[3] = 10\n",
    "print (a)\n",
    "print (b)"
   ]
  },
  {
   "cell_type": "markdown",
   "metadata": {},
   "source": [
    "``a`` and ``b`` do indeed point to different values in memory."
   ]
  },
  {
   "cell_type": "markdown",
   "metadata": {},
   "source": [
    "### Simple demonstration 2\n",
    "\n",
    "Operate on ``a`` by adding 0 before the assigment statement.  This is a kind of dummy operation."
   ]
  },
  {
   "cell_type": "code",
   "execution_count": 14,
   "metadata": {},
   "outputs": [
    {
     "name": "stdout",
     "output_type": "stream",
     "text": [
      "[1 2 3 4 5]\n",
      "[1 2 3 4 5]\n"
     ]
    }
   ],
   "source": [
    "# Create a simple numpy array\n",
    "a=np.array([1, 2, 3, 4, 5])\n",
    "\n",
    "# Add 0 to `a`:\n",
    "b = a + 0\n",
    "\n",
    "print (a)\n",
    "print (b)"
   ]
  },
  {
   "cell_type": "code",
   "execution_count": 15,
   "metadata": {},
   "outputs": [
    {
     "data": {
      "text/plain": [
       "False"
      ]
     },
     "execution_count": 15,
     "metadata": {},
     "output_type": "execute_result"
    }
   ],
   "source": [
    "# Test to see if b and a point to the same thing\n",
    "b is a"
   ]
  },
  {
   "cell_type": "markdown",
   "metadata": {},
   "source": [
    "Now change the fourth element of ``b`` and print both ``a`` and ``b``"
   ]
  },
  {
   "cell_type": "code",
   "execution_count": 16,
   "metadata": {
    "scrolled": true
   },
   "outputs": [
    {
     "name": "stdout",
     "output_type": "stream",
     "text": [
      "[1 2 3 4 5]\n",
      "[ 1  2  3 10  5]\n"
     ]
    }
   ],
   "source": [
    "b[3] = 10\n",
    "print (a)\n",
    "print (b)"
   ]
  },
  {
   "cell_type": "markdown",
   "metadata": {},
   "source": [
    "Once again we see that ``a`` and ``b`` do indeed point to different values in memory."
   ]
  },
  {
   "cell_type": "markdown",
   "metadata": {},
   "source": [
    "### A fancier demonstration\n",
    "\n",
    "Let's now demonstrate with a `numpy` array that stores ``SSH`` output."
   ]
  },
  {
   "cell_type": "code",
   "execution_count": 17,
   "metadata": {},
   "outputs": [
    {
     "data": {
      "text/plain": [
       "array([[-1.3839613, -1.3924128, -1.3913262, -1.3853507],\n",
       "       [-1.3569907, -1.3593892, -1.3547356, -1.3458692],\n",
       "       [-1.3178127, -1.316035 , -1.3086342, -1.2973909],\n",
       "       [-1.267521 , -1.2628312, -1.2530723, -1.239709 ]], dtype=float32)"
      ]
     },
     "execution_count": 17,
     "metadata": {},
     "output_type": "execute_result"
    }
   ],
   "source": [
    "output_all.SSH[4,1,5:9,5:9].values"
   ]
  },
  {
   "cell_type": "code",
   "execution_count": 18,
   "metadata": {},
   "outputs": [
    {
     "data": {
      "text/plain": [
       "array([[10., 10., 10., 10.],\n",
       "       [10., 10., 10., 10.],\n",
       "       [10., 10., 10., 10.],\n",
       "       [10., 10., 10., 10.]], dtype=float32)"
      ]
     },
     "execution_count": 18,
     "metadata": {},
     "output_type": "execute_result"
    }
   ],
   "source": [
    "ssh_tmp = output_all.SSH[4,1,5:9,5:9].values * output_all.rA[1,5:9,5:9].values\n",
    "ssh_tmp[:] = 10\n",
    "ssh_tmp"
   ]
  },
  {
   "cell_type": "code",
   "execution_count": 19,
   "metadata": {
    "scrolled": true
   },
   "outputs": [
    {
     "data": {
      "text/plain": [
       "array([[-1.3839613, -1.3924128, -1.3913262, -1.3853507],\n",
       "       [-1.3569907, -1.3593892, -1.3547356, -1.3458692],\n",
       "       [-1.3178127, -1.316035 , -1.3086342, -1.2973909],\n",
       "       [-1.267521 , -1.2628312, -1.2530723, -1.239709 ]], dtype=float32)"
      ]
     },
     "execution_count": 19,
     "metadata": {},
     "output_type": "execute_result"
    }
   ],
   "source": [
    "output_all.SSH[4,1,5:9,5:9].values"
   ]
  },
  {
   "cell_type": "markdown",
   "metadata": {},
   "source": [
    "Operating on the right hand side of the assignment does indeed new arrays in memory leaving the original SSH `numpy` array untouched."
   ]
  },
  {
   "cell_type": "markdown",
   "metadata": {},
   "source": [
    "## Dealing with *pass-by-reference*: copy and deepcopy\n",
    "\n",
    "A second way to have a new variable assignment not point to the original variable is to *use the copy or deepcopy command*.\n",
    "\n",
    "### Simple demonstration\n",
    "Use the `numpy` command."
   ]
  },
  {
   "cell_type": "code",
   "execution_count": 20,
   "metadata": {},
   "outputs": [
    {
     "name": "stdout",
     "output_type": "stream",
     "text": [
      "[1 2 3 4 5]\n",
      "[1 2 3 4 5]\n"
     ]
    }
   ],
   "source": [
    "# Create a simple numpy array\n",
    "a=np.array([1, 2, 3, 4, 5])\n",
    "b=np.copy(a)\n",
    "\n",
    "print (a)\n",
    "print (b)"
   ]
  },
  {
   "cell_type": "markdown",
   "metadata": {},
   "source": [
    "Now change the fourth element of ``b`` and print both ``a`` and ``b``"
   ]
  },
  {
   "cell_type": "code",
   "execution_count": 21,
   "metadata": {
    "scrolled": true
   },
   "outputs": [
    {
     "name": "stdout",
     "output_type": "stream",
     "text": [
      "[1 2 3 4 5]\n",
      "[ 1  2  3 10  5]\n"
     ]
    }
   ],
   "source": [
    "b[3] = 10\n",
    "print (a)\n",
    "print (b)"
   ]
  },
  {
   "cell_type": "code",
   "execution_count": 22,
   "metadata": {
    "scrolled": true
   },
   "outputs": [
    {
     "data": {
      "text/html": [
       "<div><svg style=\"position: absolute; width: 0; height: 0; overflow: hidden\">\n",
       "<defs>\n",
       "<symbol id=\"icon-database\" viewBox=\"0 0 32 32\">\n",
       "<path d=\"M16 0c-8.837 0-16 2.239-16 5v4c0 2.761 7.163 5 16 5s16-2.239 16-5v-4c0-2.761-7.163-5-16-5z\"></path>\n",
       "<path d=\"M16 17c-8.837 0-16-2.239-16-5v6c0 2.761 7.163 5 16 5s16-2.239 16-5v-6c0 2.761-7.163 5-16 5z\"></path>\n",
       "<path d=\"M16 26c-8.837 0-16-2.239-16-5v6c0 2.761 7.163 5 16 5s16-2.239 16-5v-6c0 2.761-7.163 5-16 5z\"></path>\n",
       "</symbol>\n",
       "<symbol id=\"icon-file-text2\" viewBox=\"0 0 32 32\">\n",
       "<path d=\"M28.681 7.159c-0.694-0.947-1.662-2.053-2.724-3.116s-2.169-2.030-3.116-2.724c-1.612-1.182-2.393-1.319-2.841-1.319h-15.5c-1.378 0-2.5 1.121-2.5 2.5v27c0 1.378 1.122 2.5 2.5 2.5h23c1.378 0 2.5-1.122 2.5-2.5v-19.5c0-0.448-0.137-1.23-1.319-2.841zM24.543 5.457c0.959 0.959 1.712 1.825 2.268 2.543h-4.811v-4.811c0.718 0.556 1.584 1.309 2.543 2.268zM28 29.5c0 0.271-0.229 0.5-0.5 0.5h-23c-0.271 0-0.5-0.229-0.5-0.5v-27c0-0.271 0.229-0.5 0.5-0.5 0 0 15.499-0 15.5 0v7c0 0.552 0.448 1 1 1h7v19.5z\"></path>\n",
       "<path d=\"M23 26h-14c-0.552 0-1-0.448-1-1s0.448-1 1-1h14c0.552 0 1 0.448 1 1s-0.448 1-1 1z\"></path>\n",
       "<path d=\"M23 22h-14c-0.552 0-1-0.448-1-1s0.448-1 1-1h14c0.552 0 1 0.448 1 1s-0.448 1-1 1z\"></path>\n",
       "<path d=\"M23 18h-14c-0.552 0-1-0.448-1-1s0.448-1 1-1h14c0.552 0 1 0.448 1 1s-0.448 1-1 1z\"></path>\n",
       "</symbol>\n",
       "</defs>\n",
       "</svg>\n",
       "<style>/* CSS stylesheet for displaying xarray objects in jupyterlab.\n",
       " *\n",
       " */\n",
       "\n",
       ":root {\n",
       "  --xr-font-color0: var(--jp-content-font-color0, rgba(0, 0, 0, 1));\n",
       "  --xr-font-color2: var(--jp-content-font-color2, rgba(0, 0, 0, 0.54));\n",
       "  --xr-font-color3: var(--jp-content-font-color3, rgba(0, 0, 0, 0.38));\n",
       "  --xr-border-color: var(--jp-border-color2, #e0e0e0);\n",
       "  --xr-disabled-color: var(--jp-layout-color3, #bdbdbd);\n",
       "  --xr-background-color: var(--jp-layout-color0, white);\n",
       "  --xr-background-color-row-even: var(--jp-layout-color1, white);\n",
       "  --xr-background-color-row-odd: var(--jp-layout-color2, #eeeeee);\n",
       "}\n",
       "\n",
       "html[theme=dark],\n",
       "body[data-theme=dark],\n",
       "body.vscode-dark {\n",
       "  --xr-font-color0: rgba(255, 255, 255, 1);\n",
       "  --xr-font-color2: rgba(255, 255, 255, 0.54);\n",
       "  --xr-font-color3: rgba(255, 255, 255, 0.38);\n",
       "  --xr-border-color: #1F1F1F;\n",
       "  --xr-disabled-color: #515151;\n",
       "  --xr-background-color: #111111;\n",
       "  --xr-background-color-row-even: #111111;\n",
       "  --xr-background-color-row-odd: #313131;\n",
       "}\n",
       "\n",
       ".xr-wrap {\n",
       "  display: block !important;\n",
       "  min-width: 300px;\n",
       "  max-width: 700px;\n",
       "}\n",
       "\n",
       ".xr-text-repr-fallback {\n",
       "  /* fallback to plain text repr when CSS is not injected (untrusted notebook) */\n",
       "  display: none;\n",
       "}\n",
       "\n",
       ".xr-header {\n",
       "  padding-top: 6px;\n",
       "  padding-bottom: 6px;\n",
       "  margin-bottom: 4px;\n",
       "  border-bottom: solid 1px var(--xr-border-color);\n",
       "}\n",
       "\n",
       ".xr-header > div,\n",
       ".xr-header > ul {\n",
       "  display: inline;\n",
       "  margin-top: 0;\n",
       "  margin-bottom: 0;\n",
       "}\n",
       "\n",
       ".xr-obj-type,\n",
       ".xr-array-name {\n",
       "  margin-left: 2px;\n",
       "  margin-right: 10px;\n",
       "}\n",
       "\n",
       ".xr-obj-type {\n",
       "  color: var(--xr-font-color2);\n",
       "}\n",
       "\n",
       ".xr-sections {\n",
       "  padding-left: 0 !important;\n",
       "  display: grid;\n",
       "  grid-template-columns: 150px auto auto 1fr 20px 20px;\n",
       "}\n",
       "\n",
       ".xr-section-item {\n",
       "  display: contents;\n",
       "}\n",
       "\n",
       ".xr-section-item input {\n",
       "  display: none;\n",
       "}\n",
       "\n",
       ".xr-section-item input + label {\n",
       "  color: var(--xr-disabled-color);\n",
       "}\n",
       "\n",
       ".xr-section-item input:enabled + label {\n",
       "  cursor: pointer;\n",
       "  color: var(--xr-font-color2);\n",
       "}\n",
       "\n",
       ".xr-section-item input:enabled + label:hover {\n",
       "  color: var(--xr-font-color0);\n",
       "}\n",
       "\n",
       ".xr-section-summary {\n",
       "  grid-column: 1;\n",
       "  color: var(--xr-font-color2);\n",
       "  font-weight: 500;\n",
       "}\n",
       "\n",
       ".xr-section-summary > span {\n",
       "  display: inline-block;\n",
       "  padding-left: 0.5em;\n",
       "}\n",
       "\n",
       ".xr-section-summary-in:disabled + label {\n",
       "  color: var(--xr-font-color2);\n",
       "}\n",
       "\n",
       ".xr-section-summary-in + label:before {\n",
       "  display: inline-block;\n",
       "  content: '►';\n",
       "  font-size: 11px;\n",
       "  width: 15px;\n",
       "  text-align: center;\n",
       "}\n",
       "\n",
       ".xr-section-summary-in:disabled + label:before {\n",
       "  color: var(--xr-disabled-color);\n",
       "}\n",
       "\n",
       ".xr-section-summary-in:checked + label:before {\n",
       "  content: '▼';\n",
       "}\n",
       "\n",
       ".xr-section-summary-in:checked + label > span {\n",
       "  display: none;\n",
       "}\n",
       "\n",
       ".xr-section-summary,\n",
       ".xr-section-inline-details {\n",
       "  padding-top: 4px;\n",
       "  padding-bottom: 4px;\n",
       "}\n",
       "\n",
       ".xr-section-inline-details {\n",
       "  grid-column: 2 / -1;\n",
       "}\n",
       "\n",
       ".xr-section-details {\n",
       "  display: none;\n",
       "  grid-column: 1 / -1;\n",
       "  margin-bottom: 5px;\n",
       "}\n",
       "\n",
       ".xr-section-summary-in:checked ~ .xr-section-details {\n",
       "  display: contents;\n",
       "}\n",
       "\n",
       ".xr-array-wrap {\n",
       "  grid-column: 1 / -1;\n",
       "  display: grid;\n",
       "  grid-template-columns: 20px auto;\n",
       "}\n",
       "\n",
       ".xr-array-wrap > label {\n",
       "  grid-column: 1;\n",
       "  vertical-align: top;\n",
       "}\n",
       "\n",
       ".xr-preview {\n",
       "  color: var(--xr-font-color3);\n",
       "}\n",
       "\n",
       ".xr-array-preview,\n",
       ".xr-array-data {\n",
       "  padding: 0 5px !important;\n",
       "  grid-column: 2;\n",
       "}\n",
       "\n",
       ".xr-array-data,\n",
       ".xr-array-in:checked ~ .xr-array-preview {\n",
       "  display: none;\n",
       "}\n",
       "\n",
       ".xr-array-in:checked ~ .xr-array-data,\n",
       ".xr-array-preview {\n",
       "  display: inline-block;\n",
       "}\n",
       "\n",
       ".xr-dim-list {\n",
       "  display: inline-block !important;\n",
       "  list-style: none;\n",
       "  padding: 0 !important;\n",
       "  margin: 0;\n",
       "}\n",
       "\n",
       ".xr-dim-list li {\n",
       "  display: inline-block;\n",
       "  padding: 0;\n",
       "  margin: 0;\n",
       "}\n",
       "\n",
       ".xr-dim-list:before {\n",
       "  content: '(';\n",
       "}\n",
       "\n",
       ".xr-dim-list:after {\n",
       "  content: ')';\n",
       "}\n",
       "\n",
       ".xr-dim-list li:not(:last-child):after {\n",
       "  content: ',';\n",
       "  padding-right: 5px;\n",
       "}\n",
       "\n",
       ".xr-has-index {\n",
       "  font-weight: bold;\n",
       "}\n",
       "\n",
       ".xr-var-list,\n",
       ".xr-var-item {\n",
       "  display: contents;\n",
       "}\n",
       "\n",
       ".xr-var-item > div,\n",
       ".xr-var-item label,\n",
       ".xr-var-item > .xr-var-name span {\n",
       "  background-color: var(--xr-background-color-row-even);\n",
       "  margin-bottom: 0;\n",
       "}\n",
       "\n",
       ".xr-var-item > .xr-var-name:hover span {\n",
       "  padding-right: 5px;\n",
       "}\n",
       "\n",
       ".xr-var-list > li:nth-child(odd) > div,\n",
       ".xr-var-list > li:nth-child(odd) > label,\n",
       ".xr-var-list > li:nth-child(odd) > .xr-var-name span {\n",
       "  background-color: var(--xr-background-color-row-odd);\n",
       "}\n",
       "\n",
       ".xr-var-name {\n",
       "  grid-column: 1;\n",
       "}\n",
       "\n",
       ".xr-var-dims {\n",
       "  grid-column: 2;\n",
       "}\n",
       "\n",
       ".xr-var-dtype {\n",
       "  grid-column: 3;\n",
       "  text-align: right;\n",
       "  color: var(--xr-font-color2);\n",
       "}\n",
       "\n",
       ".xr-var-preview {\n",
       "  grid-column: 4;\n",
       "}\n",
       "\n",
       ".xr-index-preview {\n",
       "  grid-column: 2 / 5;\n",
       "  color: var(--xr-font-color2);\n",
       "}\n",
       "\n",
       ".xr-var-name,\n",
       ".xr-var-dims,\n",
       ".xr-var-dtype,\n",
       ".xr-preview,\n",
       ".xr-attrs dt {\n",
       "  white-space: nowrap;\n",
       "  overflow: hidden;\n",
       "  text-overflow: ellipsis;\n",
       "  padding-right: 10px;\n",
       "}\n",
       "\n",
       ".xr-var-name:hover,\n",
       ".xr-var-dims:hover,\n",
       ".xr-var-dtype:hover,\n",
       ".xr-attrs dt:hover {\n",
       "  overflow: visible;\n",
       "  width: auto;\n",
       "  z-index: 1;\n",
       "}\n",
       "\n",
       ".xr-var-attrs,\n",
       ".xr-var-data,\n",
       ".xr-index-data {\n",
       "  display: none;\n",
       "  background-color: var(--xr-background-color) !important;\n",
       "  padding-bottom: 5px !important;\n",
       "}\n",
       "\n",
       ".xr-var-attrs-in:checked ~ .xr-var-attrs,\n",
       ".xr-var-data-in:checked ~ .xr-var-data,\n",
       ".xr-index-data-in:checked ~ .xr-index-data {\n",
       "  display: block;\n",
       "}\n",
       "\n",
       ".xr-var-data > table {\n",
       "  float: right;\n",
       "}\n",
       "\n",
       ".xr-var-name span,\n",
       ".xr-var-data,\n",
       ".xr-index-name div,\n",
       ".xr-index-data,\n",
       ".xr-attrs {\n",
       "  padding-left: 25px !important;\n",
       "}\n",
       "\n",
       ".xr-attrs,\n",
       ".xr-var-attrs,\n",
       ".xr-var-data,\n",
       ".xr-index-data {\n",
       "  grid-column: 1 / -1;\n",
       "}\n",
       "\n",
       "dl.xr-attrs {\n",
       "  padding: 0;\n",
       "  margin: 0;\n",
       "  display: grid;\n",
       "  grid-template-columns: 125px auto;\n",
       "}\n",
       "\n",
       ".xr-attrs dt,\n",
       ".xr-attrs dd {\n",
       "  padding: 0;\n",
       "  margin: 0;\n",
       "  float: left;\n",
       "  padding-right: 10px;\n",
       "  width: auto;\n",
       "}\n",
       "\n",
       ".xr-attrs dt {\n",
       "  font-weight: normal;\n",
       "  grid-column: 1;\n",
       "}\n",
       "\n",
       ".xr-attrs dt:hover span {\n",
       "  display: inline-block;\n",
       "  background: var(--xr-background-color);\n",
       "  padding-right: 10px;\n",
       "}\n",
       "\n",
       ".xr-attrs dd {\n",
       "  grid-column: 2;\n",
       "  white-space: pre-wrap;\n",
       "  word-break: break-all;\n",
       "}\n",
       "\n",
       ".xr-icon-database,\n",
       ".xr-icon-file-text2,\n",
       ".xr-no-icon {\n",
       "  display: inline-block;\n",
       "  vertical-align: middle;\n",
       "  width: 1em;\n",
       "  height: 1.5em !important;\n",
       "  stroke-width: 0;\n",
       "  stroke: currentColor;\n",
       "  fill: currentColor;\n",
       "}\n",
       "</style><pre class='xr-text-repr-fallback'>&lt;xarray.DataArray &#x27;SSH&#x27; (time: 12, tile: 13, j: 90, i: 90)&gt; Size: 5MB\n",
       "array([[[[        nan,         nan,         nan, ...,         nan,\n",
       "                  nan,         nan],\n",
       "         [        nan,         nan,         nan, ...,         nan,\n",
       "                  nan,         nan],\n",
       "         [        nan,         nan,         nan, ...,         nan,\n",
       "                  nan,         nan],\n",
       "         ...,\n",
       "         [-1.4194752 , -1.4261409 , -1.4262563 , ..., -1.335799  ,\n",
       "          -1.3286246 , -1.3223515 ],\n",
       "         [-1.3915291 , -1.3982822 , -1.3976623 , ..., -1.3265072 ,\n",
       "          -1.3189714 , -1.3117282 ],\n",
       "         [-1.3617151 , -1.3670161 , -1.3660299 , ..., -1.3197623 ,\n",
       "          -1.3118473 , -1.303166  ]],\n",
       "\n",
       "        [[-1.3301036 , -1.3331454 , -1.3329679 , ..., -1.3132814 ,\n",
       "          -1.3051906 , -1.2948027 ],\n",
       "         [-1.2997499 , -1.3010498 , -1.303525  , ..., -1.3048117 ,\n",
       "          -1.2970599 , -1.2852311 ],\n",
       "         [-1.2769612 , -1.2781848 , -1.2847781 , ..., -1.2925622 ,\n",
       "          -1.2858012 , -1.2733294 ],\n",
       "...\n",
       "         [ 0.14350861,  0.14915593,  0.16067028, ..., -1.2250897 ,\n",
       "          -1.2384485 , -1.2555339 ],\n",
       "         [ 0.14452162,  0.15083845,  0.1632475 , ..., -1.245257  ,\n",
       "          -1.2634263 , -1.2841328 ],\n",
       "         [ 0.14675961,  0.15251625,  0.16487278, ..., -1.2580327 ,\n",
       "          -1.2814457 , -1.3074644 ]],\n",
       "\n",
       "        [[-0.73443437, -0.8210122 , -0.907068  , ...,         nan,\n",
       "                  nan,         nan],\n",
       "         [-0.7157703 , -0.8134533 , -0.9050429 , ...,         nan,\n",
       "                  nan,         nan],\n",
       "         [-0.71003354, -0.81543124, -0.90919775, ...,         nan,\n",
       "                  nan,         nan],\n",
       "         ...,\n",
       "         [-1.2795744 , -1.3132012 , -1.3549699 , ...,         nan,\n",
       "                  nan,         nan],\n",
       "         [-1.3077799 , -1.3369125 , -1.3719907 , ...,         nan,\n",
       "                  nan,         nan],\n",
       "         [-1.3335364 , -1.3611741 , -1.3917223 , ...,         nan,\n",
       "                  nan,         nan]]]], dtype=float32)\n",
       "Coordinates:\n",
       "  * i        (i) int32 360B 0 1 2 3 4 5 6 7 8 9 ... 81 82 83 84 85 86 87 88 89\n",
       "  * j        (j) int32 360B 0 1 2 3 4 5 6 7 8 9 ... 81 82 83 84 85 86 87 88 89\n",
       "  * tile     (tile) int32 52B 0 1 2 3 4 5 6 7 8 9 10 11 12\n",
       "  * time     (time) datetime64[ns] 96B 2010-01-16T12:00:00 ... 2010-12-16T12:...\n",
       "    XC       (tile, j, i) float32 421kB -111.6 -111.3 -110.9 ... -105.6 -111.9\n",
       "    YC       (tile, j, i) float32 421kB -88.24 -88.38 -88.52 ... -88.08 -88.1\n",
       "Attributes:\n",
       "    long_name:              Dynamic sea surface height anomaly\n",
       "    units:                  m\n",
       "    coverage_content_type:  modelResult\n",
       "    standard_name:          sea_surface_height_above_geoid\n",
       "    comment:                Dynamic sea surface height anomaly above the geoi...\n",
       "    valid_min:              -1.8805772066116333\n",
       "    valid_max:              1.4207719564437866</pre><div class='xr-wrap' style='display:none'><div class='xr-header'><div class='xr-obj-type'>xarray.DataArray</div><div class='xr-array-name'>'SSH'</div><ul class='xr-dim-list'><li><span class='xr-has-index'>time</span>: 12</li><li><span class='xr-has-index'>tile</span>: 13</li><li><span class='xr-has-index'>j</span>: 90</li><li><span class='xr-has-index'>i</span>: 90</li></ul></div><ul class='xr-sections'><li class='xr-section-item'><div class='xr-array-wrap'><input id='section-bebae608-4c32-4db2-a2f5-70187f576c1f' class='xr-array-in' type='checkbox' checked><label for='section-bebae608-4c32-4db2-a2f5-70187f576c1f' title='Show/hide data repr'><svg class='icon xr-icon-database'><use xlink:href='#icon-database'></use></svg></label><div class='xr-array-preview xr-preview'><span>nan nan nan nan nan nan nan nan ... nan nan nan nan nan nan nan nan</span></div><div class='xr-array-data'><pre>array([[[[        nan,         nan,         nan, ...,         nan,\n",
       "                  nan,         nan],\n",
       "         [        nan,         nan,         nan, ...,         nan,\n",
       "                  nan,         nan],\n",
       "         [        nan,         nan,         nan, ...,         nan,\n",
       "                  nan,         nan],\n",
       "         ...,\n",
       "         [-1.4194752 , -1.4261409 , -1.4262563 , ..., -1.335799  ,\n",
       "          -1.3286246 , -1.3223515 ],\n",
       "         [-1.3915291 , -1.3982822 , -1.3976623 , ..., -1.3265072 ,\n",
       "          -1.3189714 , -1.3117282 ],\n",
       "         [-1.3617151 , -1.3670161 , -1.3660299 , ..., -1.3197623 ,\n",
       "          -1.3118473 , -1.303166  ]],\n",
       "\n",
       "        [[-1.3301036 , -1.3331454 , -1.3329679 , ..., -1.3132814 ,\n",
       "          -1.3051906 , -1.2948027 ],\n",
       "         [-1.2997499 , -1.3010498 , -1.303525  , ..., -1.3048117 ,\n",
       "          -1.2970599 , -1.2852311 ],\n",
       "         [-1.2769612 , -1.2781848 , -1.2847781 , ..., -1.2925622 ,\n",
       "          -1.2858012 , -1.2733294 ],\n",
       "...\n",
       "         [ 0.14350861,  0.14915593,  0.16067028, ..., -1.2250897 ,\n",
       "          -1.2384485 , -1.2555339 ],\n",
       "         [ 0.14452162,  0.15083845,  0.1632475 , ..., -1.245257  ,\n",
       "          -1.2634263 , -1.2841328 ],\n",
       "         [ 0.14675961,  0.15251625,  0.16487278, ..., -1.2580327 ,\n",
       "          -1.2814457 , -1.3074644 ]],\n",
       "\n",
       "        [[-0.73443437, -0.8210122 , -0.907068  , ...,         nan,\n",
       "                  nan,         nan],\n",
       "         [-0.7157703 , -0.8134533 , -0.9050429 , ...,         nan,\n",
       "                  nan,         nan],\n",
       "         [-0.71003354, -0.81543124, -0.90919775, ...,         nan,\n",
       "                  nan,         nan],\n",
       "         ...,\n",
       "         [-1.2795744 , -1.3132012 , -1.3549699 , ...,         nan,\n",
       "                  nan,         nan],\n",
       "         [-1.3077799 , -1.3369125 , -1.3719907 , ...,         nan,\n",
       "                  nan,         nan],\n",
       "         [-1.3335364 , -1.3611741 , -1.3917223 , ...,         nan,\n",
       "                  nan,         nan]]]], dtype=float32)</pre></div></div></li><li class='xr-section-item'><input id='section-1372b84a-e6a4-4b7c-8849-2444bfb4fb78' class='xr-section-summary-in' type='checkbox'  checked><label for='section-1372b84a-e6a4-4b7c-8849-2444bfb4fb78' class='xr-section-summary' >Coordinates: <span>(6)</span></label><div class='xr-section-inline-details'></div><div class='xr-section-details'><ul class='xr-var-list'><li class='xr-var-item'><div class='xr-var-name'><span class='xr-has-index'>i</span></div><div class='xr-var-dims'>(i)</div><div class='xr-var-dtype'>int32</div><div class='xr-var-preview xr-preview'>0 1 2 3 4 5 6 ... 84 85 86 87 88 89</div><input id='attrs-b7a7562b-7c44-43ab-b5b6-2372e06fa70a' class='xr-var-attrs-in' type='checkbox' ><label for='attrs-b7a7562b-7c44-43ab-b5b6-2372e06fa70a' title='Show/Hide attributes'><svg class='icon xr-icon-file-text2'><use xlink:href='#icon-file-text2'></use></svg></label><input id='data-f413749f-326a-4453-8940-3ab43d757a42' class='xr-var-data-in' type='checkbox'><label for='data-f413749f-326a-4453-8940-3ab43d757a42' title='Show/Hide data repr'><svg class='icon xr-icon-database'><use xlink:href='#icon-database'></use></svg></label><div class='xr-var-attrs'><dl class='xr-attrs'><dt><span>axis :</span></dt><dd>X</dd><dt><span>long_name :</span></dt><dd>grid index in x for variables at tracer and &#x27;v&#x27; locations</dd><dt><span>swap_dim :</span></dt><dd>XC</dd><dt><span>comment :</span></dt><dd>In the Arakawa C-grid system, tracer (e.g., THETA) and &#x27;v&#x27; variables (e.g., VVEL) have the same x coordinate on the model grid.</dd><dt><span>coverage_content_type :</span></dt><dd>coordinate</dd></dl></div><div class='xr-var-data'><pre>array([ 0,  1,  2,  3,  4,  5,  6,  7,  8,  9, 10, 11, 12, 13, 14, 15, 16, 17,\n",
       "       18, 19, 20, 21, 22, 23, 24, 25, 26, 27, 28, 29, 30, 31, 32, 33, 34, 35,\n",
       "       36, 37, 38, 39, 40, 41, 42, 43, 44, 45, 46, 47, 48, 49, 50, 51, 52, 53,\n",
       "       54, 55, 56, 57, 58, 59, 60, 61, 62, 63, 64, 65, 66, 67, 68, 69, 70, 71,\n",
       "       72, 73, 74, 75, 76, 77, 78, 79, 80, 81, 82, 83, 84, 85, 86, 87, 88, 89],\n",
       "      dtype=int32)</pre></div></li><li class='xr-var-item'><div class='xr-var-name'><span class='xr-has-index'>j</span></div><div class='xr-var-dims'>(j)</div><div class='xr-var-dtype'>int32</div><div class='xr-var-preview xr-preview'>0 1 2 3 4 5 6 ... 84 85 86 87 88 89</div><input id='attrs-0f2ccb90-4bf8-45ac-b453-947cc2760ca7' class='xr-var-attrs-in' type='checkbox' ><label for='attrs-0f2ccb90-4bf8-45ac-b453-947cc2760ca7' title='Show/Hide attributes'><svg class='icon xr-icon-file-text2'><use xlink:href='#icon-file-text2'></use></svg></label><input id='data-35d3de7d-d9e0-44fc-abd3-94df28a27352' class='xr-var-data-in' type='checkbox'><label for='data-35d3de7d-d9e0-44fc-abd3-94df28a27352' title='Show/Hide data repr'><svg class='icon xr-icon-database'><use xlink:href='#icon-database'></use></svg></label><div class='xr-var-attrs'><dl class='xr-attrs'><dt><span>axis :</span></dt><dd>Y</dd><dt><span>long_name :</span></dt><dd>grid index in y for variables at tracer and &#x27;u&#x27; locations</dd><dt><span>swap_dim :</span></dt><dd>YC</dd><dt><span>comment :</span></dt><dd>In the Arakawa C-grid system, tracer (e.g., THETA) and &#x27;u&#x27; variables (e.g., UVEL) have the same y coordinate on the model grid.</dd><dt><span>coverage_content_type :</span></dt><dd>coordinate</dd></dl></div><div class='xr-var-data'><pre>array([ 0,  1,  2,  3,  4,  5,  6,  7,  8,  9, 10, 11, 12, 13, 14, 15, 16, 17,\n",
       "       18, 19, 20, 21, 22, 23, 24, 25, 26, 27, 28, 29, 30, 31, 32, 33, 34, 35,\n",
       "       36, 37, 38, 39, 40, 41, 42, 43, 44, 45, 46, 47, 48, 49, 50, 51, 52, 53,\n",
       "       54, 55, 56, 57, 58, 59, 60, 61, 62, 63, 64, 65, 66, 67, 68, 69, 70, 71,\n",
       "       72, 73, 74, 75, 76, 77, 78, 79, 80, 81, 82, 83, 84, 85, 86, 87, 88, 89],\n",
       "      dtype=int32)</pre></div></li><li class='xr-var-item'><div class='xr-var-name'><span class='xr-has-index'>tile</span></div><div class='xr-var-dims'>(tile)</div><div class='xr-var-dtype'>int32</div><div class='xr-var-preview xr-preview'>0 1 2 3 4 5 6 7 8 9 10 11 12</div><input id='attrs-79be36ba-ca38-434c-bc7e-67f62462883d' class='xr-var-attrs-in' type='checkbox' ><label for='attrs-79be36ba-ca38-434c-bc7e-67f62462883d' title='Show/Hide attributes'><svg class='icon xr-icon-file-text2'><use xlink:href='#icon-file-text2'></use></svg></label><input id='data-2597141e-b1ba-4e46-b4e4-7743041034c1' class='xr-var-data-in' type='checkbox'><label for='data-2597141e-b1ba-4e46-b4e4-7743041034c1' title='Show/Hide data repr'><svg class='icon xr-icon-database'><use xlink:href='#icon-database'></use></svg></label><div class='xr-var-attrs'><dl class='xr-attrs'><dt><span>long_name :</span></dt><dd>lat-lon-cap tile index</dd><dt><span>comment :</span></dt><dd>The ECCO V4 horizontal model grid is divided into 13 tiles of 90x90 cells for convenience.</dd><dt><span>coverage_content_type :</span></dt><dd>coordinate</dd></dl></div><div class='xr-var-data'><pre>array([ 0,  1,  2,  3,  4,  5,  6,  7,  8,  9, 10, 11, 12], dtype=int32)</pre></div></li><li class='xr-var-item'><div class='xr-var-name'><span class='xr-has-index'>time</span></div><div class='xr-var-dims'>(time)</div><div class='xr-var-dtype'>datetime64[ns]</div><div class='xr-var-preview xr-preview'>2010-01-16T12:00:00 ... 2010-12-...</div><input id='attrs-31d15f94-4b2a-496e-8ad9-0ca8678a08b6' class='xr-var-attrs-in' type='checkbox' ><label for='attrs-31d15f94-4b2a-496e-8ad9-0ca8678a08b6' title='Show/Hide attributes'><svg class='icon xr-icon-file-text2'><use xlink:href='#icon-file-text2'></use></svg></label><input id='data-a01da6ac-df28-41ef-b29d-1b8aad297112' class='xr-var-data-in' type='checkbox'><label for='data-a01da6ac-df28-41ef-b29d-1b8aad297112' title='Show/Hide data repr'><svg class='icon xr-icon-database'><use xlink:href='#icon-database'></use></svg></label><div class='xr-var-attrs'><dl class='xr-attrs'><dt><span>long_name :</span></dt><dd>center time of averaging period</dd><dt><span>axis :</span></dt><dd>T</dd><dt><span>bounds :</span></dt><dd>time_bnds</dd><dt><span>coverage_content_type :</span></dt><dd>coordinate</dd><dt><span>standard_name :</span></dt><dd>time</dd></dl></div><div class='xr-var-data'><pre>array([&#x27;2010-01-16T12:00:00.000000000&#x27;, &#x27;2010-02-15T00:00:00.000000000&#x27;,\n",
       "       &#x27;2010-03-16T12:00:00.000000000&#x27;, &#x27;2010-04-16T00:00:00.000000000&#x27;,\n",
       "       &#x27;2010-05-16T12:00:00.000000000&#x27;, &#x27;2010-06-16T00:00:00.000000000&#x27;,\n",
       "       &#x27;2010-07-16T12:00:00.000000000&#x27;, &#x27;2010-08-16T12:00:00.000000000&#x27;,\n",
       "       &#x27;2010-09-16T00:00:00.000000000&#x27;, &#x27;2010-10-16T12:00:00.000000000&#x27;,\n",
       "       &#x27;2010-11-16T00:00:00.000000000&#x27;, &#x27;2010-12-16T12:00:00.000000000&#x27;],\n",
       "      dtype=&#x27;datetime64[ns]&#x27;)</pre></div></li><li class='xr-var-item'><div class='xr-var-name'><span>XC</span></div><div class='xr-var-dims'>(tile, j, i)</div><div class='xr-var-dtype'>float32</div><div class='xr-var-preview xr-preview'>-111.6 -111.3 ... -105.6 -111.9</div><input id='attrs-23c00701-11b6-4d53-8b87-a2539ab6a151' class='xr-var-attrs-in' type='checkbox' ><label for='attrs-23c00701-11b6-4d53-8b87-a2539ab6a151' title='Show/Hide attributes'><svg class='icon xr-icon-file-text2'><use xlink:href='#icon-file-text2'></use></svg></label><input id='data-276b374b-08b7-4af6-9170-7a6ccbe40eac' class='xr-var-data-in' type='checkbox'><label for='data-276b374b-08b7-4af6-9170-7a6ccbe40eac' title='Show/Hide data repr'><svg class='icon xr-icon-database'><use xlink:href='#icon-database'></use></svg></label><div class='xr-var-attrs'><dl class='xr-attrs'><dt><span>long_name :</span></dt><dd>longitude of tracer grid cell center</dd><dt><span>units :</span></dt><dd>degrees_east</dd><dt><span>coordinate :</span></dt><dd>YC XC</dd><dt><span>bounds :</span></dt><dd>XC_bnds</dd><dt><span>comment :</span></dt><dd>nonuniform grid spacing</dd><dt><span>coverage_content_type :</span></dt><dd>coordinate</dd><dt><span>standard_name :</span></dt><dd>longitude</dd></dl></div><div class='xr-var-data'><pre>array([[[-111.60647 , -111.303   , -110.94285 , ...,   64.791115,\n",
       "           64.80521 ,   64.81917 ],\n",
       "        [-104.8196  , -103.928444, -102.87706 , ...,   64.36745 ,\n",
       "           64.41012 ,   64.4524  ],\n",
       "        [ -98.198784,  -96.788055,  -95.14185 , ...,   63.936497,\n",
       "           64.008224,   64.0793  ],\n",
       "        ...,\n",
       "        [ -37.5     ,  -36.5     ,  -35.5     , ...,   49.5     ,\n",
       "           50.5     ,   51.5     ],\n",
       "        [ -37.5     ,  -36.5     ,  -35.5     , ...,   49.5     ,\n",
       "           50.5     ,   51.5     ],\n",
       "        [ -37.5     ,  -36.5     ,  -35.5     , ...,   49.5     ,\n",
       "           50.5     ,   51.5     ]],\n",
       "\n",
       "       [[ -37.5     ,  -36.5     ,  -35.5     , ...,   49.5     ,\n",
       "           50.5     ,   51.5     ],\n",
       "        [ -37.5     ,  -36.5     ,  -35.5     , ...,   49.5     ,\n",
       "           50.5     ,   51.5     ],\n",
       "        [ -37.5     ,  -36.5     ,  -35.5     , ...,   49.5     ,\n",
       "           50.5     ,   51.5     ],\n",
       "...\n",
       "        [ -40.5     ,  -40.5     ,  -40.5     , ...,  -40.5     ,\n",
       "          -40.5     ,  -40.5     ],\n",
       "        [ -39.5     ,  -39.5     ,  -39.5     , ...,  -39.5     ,\n",
       "          -39.5     ,  -39.5     ],\n",
       "        [ -38.5     ,  -38.5     ,  -38.5     , ...,  -38.5     ,\n",
       "          -38.5     ,  -38.5     ]],\n",
       "\n",
       "       [[-127.5     , -127.5     , -127.5     , ..., -115.850204,\n",
       "         -115.50567 , -115.166985],\n",
       "        [-126.5     , -126.5     , -126.5     , ..., -115.78025 ,\n",
       "         -115.464066, -115.153244],\n",
       "        [-125.5     , -125.5     , -125.5     , ..., -115.71079 ,\n",
       "         -115.42275 , -115.139595],\n",
       "        ...,\n",
       "        [ -40.5     ,  -40.5     ,  -40.5     , ..., -101.42989 ,\n",
       "         -106.83081 , -112.28605 ],\n",
       "        [ -39.5     ,  -39.5     ,  -39.5     , ..., -100.48844 ,\n",
       "         -106.24874 , -112.090065],\n",
       "        [ -38.5     ,  -38.5     ,  -38.5     , ...,  -99.42048 ,\n",
       "         -105.58465 , -111.86579 ]]], dtype=float32)</pre></div></li><li class='xr-var-item'><div class='xr-var-name'><span>YC</span></div><div class='xr-var-dims'>(tile, j, i)</div><div class='xr-var-dtype'>float32</div><div class='xr-var-preview xr-preview'>-88.24 -88.38 ... -88.08 -88.1</div><input id='attrs-212b0ad5-72c0-4a0b-ab1b-e5f3a0f2ce95' class='xr-var-attrs-in' type='checkbox' ><label for='attrs-212b0ad5-72c0-4a0b-ab1b-e5f3a0f2ce95' title='Show/Hide attributes'><svg class='icon xr-icon-file-text2'><use xlink:href='#icon-file-text2'></use></svg></label><input id='data-809bcd60-774b-49b5-92b8-bd3cfebf295c' class='xr-var-data-in' type='checkbox'><label for='data-809bcd60-774b-49b5-92b8-bd3cfebf295c' title='Show/Hide data repr'><svg class='icon xr-icon-database'><use xlink:href='#icon-database'></use></svg></label><div class='xr-var-attrs'><dl class='xr-attrs'><dt><span>long_name :</span></dt><dd>latitude of tracer grid cell center</dd><dt><span>units :</span></dt><dd>degrees_north</dd><dt><span>coordinate :</span></dt><dd>YC XC</dd><dt><span>bounds :</span></dt><dd>YC_bnds</dd><dt><span>comment :</span></dt><dd>nonuniform grid spacing</dd><dt><span>coverage_content_type :</span></dt><dd>coordinate</dd><dt><span>standard_name :</span></dt><dd>latitude</dd></dl></div><div class='xr-var-data'><pre>array([[[-88.24259  , -88.382515 , -88.52242  , ..., -80.57383  ,\n",
       "         -80.50492  , -80.43992  ],\n",
       "        [-88.21676  , -88.354485 , -88.49178  , ..., -80.56925  ,\n",
       "         -80.50038  , -80.43542  ],\n",
       "        [-88.164764 , -88.29827  , -88.43065  , ..., -80.55984  ,\n",
       "         -80.49105  , -80.42617  ],\n",
       "        ...,\n",
       "        [-58.321964 , -58.321964 , -58.321964 , ..., -58.321964 ,\n",
       "         -58.321964 , -58.321964 ],\n",
       "        [-57.79962  , -57.79962  , -57.79962  , ..., -57.79962  ,\n",
       "         -57.79962  , -57.79962  ],\n",
       "        [-57.271408 , -57.271408 , -57.271408 , ..., -57.271408 ,\n",
       "         -57.271408 , -57.271408 ]],\n",
       "\n",
       "       [[-56.73891  , -56.73891  , -56.73891  , ..., -56.73891  ,\n",
       "         -56.73891  , -56.73891  ],\n",
       "        [-56.2021   , -56.2021   , -56.2021   , ..., -56.2021   ,\n",
       "         -56.2021   , -56.2021   ],\n",
       "        [-55.65936  , -55.65936  , -55.65936  , ..., -55.65936  ,\n",
       "         -55.65936  , -55.65936  ],\n",
       "...\n",
       "        [  9.482398 ,   8.516253 ,   7.5699615, ..., -55.65936  ,\n",
       "         -56.2021   , -56.73891  ],\n",
       "        [  9.482398 ,   8.516253 ,   7.5699615, ..., -55.65936  ,\n",
       "         -56.2021   , -56.73891  ],\n",
       "        [  9.482398 ,   8.516253 ,   7.5699615, ..., -55.65936  ,\n",
       "         -56.2021   , -56.73891  ]],\n",
       "\n",
       "       [[-57.271408 , -57.79962  , -58.321964 , ..., -80.36532  ,\n",
       "         -80.3745   , -80.37896  ],\n",
       "        [-57.271408 , -57.79962  , -58.321964 , ..., -80.30862  ,\n",
       "         -80.317726 , -80.32216  ],\n",
       "        [-57.271408 , -57.79962  , -58.321964 , ..., -80.25618  ,\n",
       "         -80.26523  , -80.26963  ],\n",
       "        ...,\n",
       "        [-57.271408 , -57.79962  , -58.321964 , ..., -87.7596   ,\n",
       "         -87.80198  , -87.822876 ],\n",
       "        [-57.271408 , -57.79962  , -58.321964 , ..., -87.89526  ,\n",
       "         -87.94044  , -87.96276  ],\n",
       "        [-57.271408 , -57.79962  , -58.321964 , ..., -88.030365 ,\n",
       "         -88.07871  , -88.10267  ]]], dtype=float32)</pre></div></li></ul></div></li><li class='xr-section-item'><input id='section-75811385-f5bf-4ea3-99a2-5acc58d2f568' class='xr-section-summary-in' type='checkbox'  ><label for='section-75811385-f5bf-4ea3-99a2-5acc58d2f568' class='xr-section-summary' >Indexes: <span>(4)</span></label><div class='xr-section-inline-details'></div><div class='xr-section-details'><ul class='xr-var-list'><li class='xr-var-item'><div class='xr-index-name'><div>i</div></div><div class='xr-index-preview'>PandasIndex</div><div></div><input id='index-af5d5ad2-29c5-45ee-9a7e-28662636a27b' class='xr-index-data-in' type='checkbox'/><label for='index-af5d5ad2-29c5-45ee-9a7e-28662636a27b' title='Show/Hide index repr'><svg class='icon xr-icon-database'><use xlink:href='#icon-database'></use></svg></label><div class='xr-index-data'><pre>PandasIndex(Index([ 0,  1,  2,  3,  4,  5,  6,  7,  8,  9, 10, 11, 12, 13, 14, 15, 16, 17,\n",
       "       18, 19, 20, 21, 22, 23, 24, 25, 26, 27, 28, 29, 30, 31, 32, 33, 34, 35,\n",
       "       36, 37, 38, 39, 40, 41, 42, 43, 44, 45, 46, 47, 48, 49, 50, 51, 52, 53,\n",
       "       54, 55, 56, 57, 58, 59, 60, 61, 62, 63, 64, 65, 66, 67, 68, 69, 70, 71,\n",
       "       72, 73, 74, 75, 76, 77, 78, 79, 80, 81, 82, 83, 84, 85, 86, 87, 88, 89],\n",
       "      dtype=&#x27;int32&#x27;, name=&#x27;i&#x27;))</pre></div></li><li class='xr-var-item'><div class='xr-index-name'><div>j</div></div><div class='xr-index-preview'>PandasIndex</div><div></div><input id='index-e133b38d-ea90-4922-b548-2db5e6f0fadc' class='xr-index-data-in' type='checkbox'/><label for='index-e133b38d-ea90-4922-b548-2db5e6f0fadc' title='Show/Hide index repr'><svg class='icon xr-icon-database'><use xlink:href='#icon-database'></use></svg></label><div class='xr-index-data'><pre>PandasIndex(Index([ 0,  1,  2,  3,  4,  5,  6,  7,  8,  9, 10, 11, 12, 13, 14, 15, 16, 17,\n",
       "       18, 19, 20, 21, 22, 23, 24, 25, 26, 27, 28, 29, 30, 31, 32, 33, 34, 35,\n",
       "       36, 37, 38, 39, 40, 41, 42, 43, 44, 45, 46, 47, 48, 49, 50, 51, 52, 53,\n",
       "       54, 55, 56, 57, 58, 59, 60, 61, 62, 63, 64, 65, 66, 67, 68, 69, 70, 71,\n",
       "       72, 73, 74, 75, 76, 77, 78, 79, 80, 81, 82, 83, 84, 85, 86, 87, 88, 89],\n",
       "      dtype=&#x27;int32&#x27;, name=&#x27;j&#x27;))</pre></div></li><li class='xr-var-item'><div class='xr-index-name'><div>tile</div></div><div class='xr-index-preview'>PandasIndex</div><div></div><input id='index-289ab97c-a951-41e0-b5f1-616afc73fb12' class='xr-index-data-in' type='checkbox'/><label for='index-289ab97c-a951-41e0-b5f1-616afc73fb12' title='Show/Hide index repr'><svg class='icon xr-icon-database'><use xlink:href='#icon-database'></use></svg></label><div class='xr-index-data'><pre>PandasIndex(Index([0, 1, 2, 3, 4, 5, 6, 7, 8, 9, 10, 11, 12], dtype=&#x27;int32&#x27;, name=&#x27;tile&#x27;))</pre></div></li><li class='xr-var-item'><div class='xr-index-name'><div>time</div></div><div class='xr-index-preview'>PandasIndex</div><div></div><input id='index-dee7daa1-4cd2-4ad7-9eb5-817c655ef401' class='xr-index-data-in' type='checkbox'/><label for='index-dee7daa1-4cd2-4ad7-9eb5-817c655ef401' title='Show/Hide index repr'><svg class='icon xr-icon-database'><use xlink:href='#icon-database'></use></svg></label><div class='xr-index-data'><pre>PandasIndex(DatetimeIndex([&#x27;2010-01-16 12:00:00&#x27;, &#x27;2010-02-15 00:00:00&#x27;,\n",
       "               &#x27;2010-03-16 12:00:00&#x27;, &#x27;2010-04-16 00:00:00&#x27;,\n",
       "               &#x27;2010-05-16 12:00:00&#x27;, &#x27;2010-06-16 00:00:00&#x27;,\n",
       "               &#x27;2010-07-16 12:00:00&#x27;, &#x27;2010-08-16 12:00:00&#x27;,\n",
       "               &#x27;2010-09-16 00:00:00&#x27;, &#x27;2010-10-16 12:00:00&#x27;,\n",
       "               &#x27;2010-11-16 00:00:00&#x27;, &#x27;2010-12-16 12:00:00&#x27;],\n",
       "              dtype=&#x27;datetime64[ns]&#x27;, name=&#x27;time&#x27;, freq=None))</pre></div></li></ul></div></li><li class='xr-section-item'><input id='section-29f91e9a-3a3f-4682-b35c-e3a2ed168ef6' class='xr-section-summary-in' type='checkbox'  checked><label for='section-29f91e9a-3a3f-4682-b35c-e3a2ed168ef6' class='xr-section-summary' >Attributes: <span>(7)</span></label><div class='xr-section-inline-details'></div><div class='xr-section-details'><dl class='xr-attrs'><dt><span>long_name :</span></dt><dd>Dynamic sea surface height anomaly</dd><dt><span>units :</span></dt><dd>m</dd><dt><span>coverage_content_type :</span></dt><dd>modelResult</dd><dt><span>standard_name :</span></dt><dd>sea_surface_height_above_geoid</dd><dt><span>comment :</span></dt><dd>Dynamic sea surface height anomaly above the geoid, suitable for comparisons with altimetry sea surface height data products that apply the inverse barometer (IB) correction. Note: SSH is calculated by correcting model sea level anomaly ETAN for three effects: a) global mean steric sea level changes related to density changes in the Boussinesq volume-conserving model (Greatbatch correction, see sterGloH), b) the inverted barometer (IB) effect (see SSHIBC) and c) sea level displacement due to sea-ice and snow pressure loading (see sIceLoad). SSH can be compared with the similarly-named SSH variable in previous ECCO products that did not include atmospheric pressure loading (e.g., Version 4 Release 3). Use SSHNOIBC for comparisons with altimetry data products that do NOT apply the IB correction.</dd><dt><span>valid_min :</span></dt><dd>-1.8805772066116333</dd><dt><span>valid_max :</span></dt><dd>1.4207719564437866</dd></dl></div></li></ul></div></div>"
      ],
      "text/plain": [
       "<xarray.DataArray 'SSH' (time: 12, tile: 13, j: 90, i: 90)> Size: 5MB\n",
       "array([[[[        nan,         nan,         nan, ...,         nan,\n",
       "                  nan,         nan],\n",
       "         [        nan,         nan,         nan, ...,         nan,\n",
       "                  nan,         nan],\n",
       "         [        nan,         nan,         nan, ...,         nan,\n",
       "                  nan,         nan],\n",
       "         ...,\n",
       "         [-1.4194752 , -1.4261409 , -1.4262563 , ..., -1.335799  ,\n",
       "          -1.3286246 , -1.3223515 ],\n",
       "         [-1.3915291 , -1.3982822 , -1.3976623 , ..., -1.3265072 ,\n",
       "          -1.3189714 , -1.3117282 ],\n",
       "         [-1.3617151 , -1.3670161 , -1.3660299 , ..., -1.3197623 ,\n",
       "          -1.3118473 , -1.303166  ]],\n",
       "\n",
       "        [[-1.3301036 , -1.3331454 , -1.3329679 , ..., -1.3132814 ,\n",
       "          -1.3051906 , -1.2948027 ],\n",
       "         [-1.2997499 , -1.3010498 , -1.303525  , ..., -1.3048117 ,\n",
       "          -1.2970599 , -1.2852311 ],\n",
       "         [-1.2769612 , -1.2781848 , -1.2847781 , ..., -1.2925622 ,\n",
       "          -1.2858012 , -1.2733294 ],\n",
       "...\n",
       "         [ 0.14350861,  0.14915593,  0.16067028, ..., -1.2250897 ,\n",
       "          -1.2384485 , -1.2555339 ],\n",
       "         [ 0.14452162,  0.15083845,  0.1632475 , ..., -1.245257  ,\n",
       "          -1.2634263 , -1.2841328 ],\n",
       "         [ 0.14675961,  0.15251625,  0.16487278, ..., -1.2580327 ,\n",
       "          -1.2814457 , -1.3074644 ]],\n",
       "\n",
       "        [[-0.73443437, -0.8210122 , -0.907068  , ...,         nan,\n",
       "                  nan,         nan],\n",
       "         [-0.7157703 , -0.8134533 , -0.9050429 , ...,         nan,\n",
       "                  nan,         nan],\n",
       "         [-0.71003354, -0.81543124, -0.90919775, ...,         nan,\n",
       "                  nan,         nan],\n",
       "         ...,\n",
       "         [-1.2795744 , -1.3132012 , -1.3549699 , ...,         nan,\n",
       "                  nan,         nan],\n",
       "         [-1.3077799 , -1.3369125 , -1.3719907 , ...,         nan,\n",
       "                  nan,         nan],\n",
       "         [-1.3335364 , -1.3611741 , -1.3917223 , ...,         nan,\n",
       "                  nan,         nan]]]], dtype=float32)\n",
       "Coordinates:\n",
       "  * i        (i) int32 360B 0 1 2 3 4 5 6 7 8 9 ... 81 82 83 84 85 86 87 88 89\n",
       "  * j        (j) int32 360B 0 1 2 3 4 5 6 7 8 9 ... 81 82 83 84 85 86 87 88 89\n",
       "  * tile     (tile) int32 52B 0 1 2 3 4 5 6 7 8 9 10 11 12\n",
       "  * time     (time) datetime64[ns] 96B 2010-01-16T12:00:00 ... 2010-12-16T12:...\n",
       "    XC       (tile, j, i) float32 421kB -111.6 -111.3 -110.9 ... -105.6 -111.9\n",
       "    YC       (tile, j, i) float32 421kB -88.24 -88.38 -88.52 ... -88.08 -88.1\n",
       "Attributes:\n",
       "    long_name:              Dynamic sea surface height anomaly\n",
       "    units:                  m\n",
       "    coverage_content_type:  modelResult\n",
       "    standard_name:          sea_surface_height_above_geoid\n",
       "    comment:                Dynamic sea surface height anomaly above the geoi...\n",
       "    valid_min:              -1.8805772066116333\n",
       "    valid_max:              1.4207719564437866"
      ]
     },
     "execution_count": 22,
     "metadata": {},
     "output_type": "execute_result"
    }
   ],
   "source": [
    "output_all.SSH"
   ]
  },
  {
   "cell_type": "markdown",
   "metadata": {},
   "source": [
    "### Fancier demonstration\n",
    "\n",
    "`Dataset` and `DataArray` objects are too complicated for `numpy`'s `copy` command.  For complex objects such as these use the `deepcopy` command."
   ]
  },
  {
   "cell_type": "code",
   "execution_count": 23,
   "metadata": {},
   "outputs": [
    {
     "data": {
      "text/plain": [
       "array([[10., 10., 10., 10.],\n",
       "       [10., 10., 10., 10.],\n",
       "       [10., 10., 10., 10.],\n",
       "       [10., 10., 10., 10.]], dtype=float32)"
      ]
     },
     "execution_count": 23,
     "metadata": {},
     "output_type": "execute_result"
    }
   ],
   "source": [
    "ssh_tmp = deepcopy(output_all.SSH)\n",
    "ssh_tmp[:] = 10\n",
    "ssh_tmp[4,1,5:9,5:9].values"
   ]
  },
  {
   "cell_type": "code",
   "execution_count": 24,
   "metadata": {
    "scrolled": true
   },
   "outputs": [
    {
     "data": {
      "text/plain": [
       "array([[-1.3839613, -1.3924128, -1.3913262, -1.3853507],\n",
       "       [-1.3569907, -1.3593892, -1.3547356, -1.3458692],\n",
       "       [-1.3178127, -1.316035 , -1.3086342, -1.2973909],\n",
       "       [-1.267521 , -1.2628312, -1.2530723, -1.239709 ]], dtype=float32)"
      ]
     },
     "execution_count": 24,
     "metadata": {},
     "output_type": "execute_result"
    }
   ],
   "source": [
    "output_all.SSH[4,1,5:9,5:9].values"
   ]
  },
  {
   "cell_type": "markdown",
   "metadata": {},
   "source": [
    "Using `deepcopy` gives us an entirely new array in memory.  Operations on ``ssh_tmp`` do not affect the original fields that we found in the `output_all_SSH` `DataArray`.\n",
    "\n",
    "#### alternative to `deepcopy`\n",
    "`xarray` give us another way to deepcopy `DataArrays` and `Datasets`:\n",
    "\n",
    "``\n",
    "ssh_tmp = output_all.copy(deep=True)\n",
    "``"
   ]
  },
  {
   "cell_type": "markdown",
   "metadata": {},
   "source": [
    "## Conclusion\n",
    "\n",
    "You now know about the possible pitfalls for dealing with Python's **pass-by-reference** way of handling assignment statements and different methods for making copies of `numpy` arrays and `Datasets` and `DataArrays`.  "
   ]
  }
 ],
 "metadata": {
  "kernelspec": {
   "display_name": "Python 3 (ipykernel)",
   "language": "python",
   "name": "python3"
  },
  "language_info": {
   "codemirror_mode": {
    "name": "ipython",
    "version": 3
   },
   "file_extension": ".py",
   "mimetype": "text/x-python",
   "name": "python",
   "nbconvert_exporter": "python",
   "pygments_lexer": "ipython3",
   "version": "3.12.3"
  }
 },
 "nbformat": 4,
 "nbformat_minor": 4
}
